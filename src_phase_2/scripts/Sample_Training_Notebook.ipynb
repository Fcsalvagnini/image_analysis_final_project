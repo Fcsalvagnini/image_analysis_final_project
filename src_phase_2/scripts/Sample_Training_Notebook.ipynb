{
  "nbformat": 4,
  "nbformat_minor": 0,
  "metadata": {
    "colab": {
      "name": "Sample_Training_Notebook.ipynb",
      "provenance": [],
      "collapsed_sections": []
    },
    "kernelspec": {
      "name": "python3",
      "display_name": "Python 3"
    },
    "language_info": {
      "name": "python"
    },
    "accelerator": "GPU",
    "gpuClass": "standard"
  },
  "cells": [
    {
      "cell_type": "markdown",
      "source": [
        "# Sample Notebook to train Fingerprint Deep Learning models"
      ],
      "metadata": {
        "id": "vLaTDi8t6Fr0"
      }
    },
    {
      "cell_type": "markdown",
      "source": [
        "## First, let us mount the datasets already saved in google drive\n",
        "\n",
        "- On the files section on the left panel, please mount the google drive\n",
        "- If the mount succed, you will see the driver folder in your directory structure\n",
        "- Configure the variables bellow to point to the correct dataset folders"
      ],
      "metadata": {
        "id": "Sz8U7eCQ6OKh"
      }
    },
    {
      "cell_type": "code",
      "source": [
        "TRAIN_DATASET = \"/content/drive/MyDrive/master_degree_ic_unicamp/image_analysis/datasets/registred_images_v1_train\"\n",
        "TRAIN_COMPARE_FILE = \"/content/drive/MyDrive/master_degree_ic_unicamp/image_analysis/datasets/compare_splited_v1_train_new.txt\"\n",
        "VALIDATION_DATASET = \"/content/drive/MyDrive/master_degree_ic_unicamp/image_analysis/datasets/registred_images_v1_validation\"\n",
        "VALIDATION_COMPARE_FILE = \"/content/drive/MyDrive/master_degree_ic_unicamp/image_analysis/datasets/compare_splited_v1_validation_new.txt\"\n",
        "TEST_DATASET = \"/content/drive/MyDrive/master_degree_ic_unicamp/image_analysis/datasets/registred_images_v1_test\"\n",
        "TEST_COMPARE_FILE = \"/content/drive/MyDrive/master_degree_ic_unicamp/image_analysis/datasets/compare_splited_v1_test_new.txt\"\n",
        "PATH_TO_SAVE_MODEL = \"/content/drive/MyDrive/master_degree_ic_unicamp/image_analysis/models/first_model_vgg.pth\"\n",
        "PATH_TO_SAVE_REPORT = \"/content/drive/MyDrive/master_degree_ic_unicamp/image_analysis/reports\"\n",
        "PATH_TO_SCRIPTS = \"/content/drive/MyDrive/master_degree_ic_unicamp/image_analysis/scripts\"\n",
        "PATH_TO_CONFIG_FILE = \"/content/drive/MyDrive/master_degree_ic_unicamp/image_analysis/scripts/configs/vgg_config.yml\"\n"
      ],
      "metadata": {
        "id": "JE7w7lJQ6NHh"
      },
      "execution_count": 1,
      "outputs": []
    },
    {
      "cell_type": "markdown",
      "source": [
        "## Next, we need to define the configuration files that sets our experiment\n",
        "\n",
        "- We need to just import the necessary methods to read the configurations file.\n",
        "- After reading the configurations, would be necessary to update the dataset paths and also the path to save the artifacts generated during the training experiment"
      ],
      "metadata": {
        "id": "JhPFNax668Ve"
      }
    },
    {
      "cell_type": "code",
      "source": [
        "# Install and updates the necessary packages\n",
        "!pip install torch_snippets\n",
        "!pip install --upgrade PyYAML"
      ],
      "metadata": {
        "colab": {
          "base_uri": "https://localhost:8080/"
        },
        "id": "mNIDwj8S8oh2",
        "outputId": "4521fd4f-814e-4e87-c4e7-bab1ffa77b87"
      },
      "execution_count": 2,
      "outputs": [
        {
          "output_type": "stream",
          "name": "stdout",
          "text": [
            "Looking in indexes: https://pypi.org/simple, https://us-python.pkg.dev/colab-wheels/public/simple/\n",
            "Requirement already satisfied: torch_snippets in /usr/local/lib/python3.7/dist-packages (0.496)\n",
            "Requirement already satisfied: wasabi in /usr/local/lib/python3.7/dist-packages (from torch_snippets) (0.9.1)\n",
            "Requirement already satisfied: tqdm in /usr/local/lib/python3.7/dist-packages (from torch_snippets) (4.64.0)\n",
            "Requirement already satisfied: numpy in /usr/local/lib/python3.7/dist-packages (from torch_snippets) (1.21.6)\n",
            "Requirement already satisfied: imgaug>=0.4.0 in /usr/local/lib/python3.7/dist-packages (from torch_snippets) (0.4.0)\n",
            "Requirement already satisfied: fastcore in /usr/local/lib/python3.7/dist-packages (from torch_snippets) (1.4.4)\n",
            "Requirement already satisfied: ipython in /usr/local/lib/python3.7/dist-packages (from torch_snippets) (5.5.0)\n",
            "Requirement already satisfied: catalogue in /usr/local/lib/python3.7/dist-packages (from torch_snippets) (2.0.7)\n",
            "Requirement already satisfied: jsonlines in /usr/local/lib/python3.7/dist-packages (from torch_snippets) (3.0.0)\n",
            "Requirement already satisfied: loguru in /usr/local/lib/python3.7/dist-packages (from torch_snippets) (0.6.0)\n",
            "Requirement already satisfied: PyYAML in /usr/local/lib/python3.7/dist-packages (from torch_snippets) (6.0)\n",
            "Requirement already satisfied: Pillow in /usr/local/lib/python3.7/dist-packages (from torch_snippets) (7.1.2)\n",
            "Requirement already satisfied: typing-extensions in /usr/local/lib/python3.7/dist-packages (from torch_snippets) (4.1.1)\n",
            "Requirement already satisfied: altair in /usr/local/lib/python3.7/dist-packages (from torch_snippets) (4.2.0)\n",
            "Requirement already satisfied: srsly in /usr/local/lib/python3.7/dist-packages (from torch_snippets) (2.4.3)\n",
            "Requirement already satisfied: rich in /usr/local/lib/python3.7/dist-packages (from torch_snippets) (12.4.4)\n",
            "Requirement already satisfied: dill in /usr/local/lib/python3.7/dist-packages (from torch_snippets) (0.3.5.1)\n",
            "Requirement already satisfied: matplotlib in /usr/local/lib/python3.7/dist-packages (from torch_snippets) (3.2.2)\n",
            "Requirement already satisfied: typing in /usr/local/lib/python3.7/dist-packages (from torch_snippets) (3.7.4.3)\n",
            "Requirement already satisfied: pydantic in /usr/local/lib/python3.7/dist-packages (from torch_snippets) (1.8.2)\n",
            "Requirement already satisfied: pandas in /usr/local/lib/python3.7/dist-packages (from torch_snippets) (1.3.5)\n",
            "Requirement already satisfied: opencv-python in /usr/local/lib/python3.7/dist-packages (from imgaug>=0.4.0->torch_snippets) (4.1.2.30)\n",
            "Requirement already satisfied: six in /usr/local/lib/python3.7/dist-packages (from imgaug>=0.4.0->torch_snippets) (1.15.0)\n",
            "Requirement already satisfied: scipy in /usr/local/lib/python3.7/dist-packages (from imgaug>=0.4.0->torch_snippets) (1.4.1)\n",
            "Requirement already satisfied: Shapely in /usr/local/lib/python3.7/dist-packages (from imgaug>=0.4.0->torch_snippets) (1.8.2)\n",
            "Requirement already satisfied: imageio in /usr/local/lib/python3.7/dist-packages (from imgaug>=0.4.0->torch_snippets) (2.4.1)\n",
            "Requirement already satisfied: scikit-image>=0.14.2 in /usr/local/lib/python3.7/dist-packages (from imgaug>=0.4.0->torch_snippets) (0.18.3)\n",
            "Requirement already satisfied: networkx>=2.0 in /usr/local/lib/python3.7/dist-packages (from scikit-image>=0.14.2->imgaug>=0.4.0->torch_snippets) (2.6.3)\n",
            "Requirement already satisfied: PyWavelets>=1.1.1 in /usr/local/lib/python3.7/dist-packages (from scikit-image>=0.14.2->imgaug>=0.4.0->torch_snippets) (1.3.0)\n",
            "Requirement already satisfied: tifffile>=2019.7.26 in /usr/local/lib/python3.7/dist-packages (from scikit-image>=0.14.2->imgaug>=0.4.0->torch_snippets) (2021.11.2)\n",
            "Requirement already satisfied: python-dateutil>=2.1 in /usr/local/lib/python3.7/dist-packages (from matplotlib->torch_snippets) (2.8.2)\n",
            "Requirement already satisfied: kiwisolver>=1.0.1 in /usr/local/lib/python3.7/dist-packages (from matplotlib->torch_snippets) (1.4.3)\n",
            "Requirement already satisfied: cycler>=0.10 in /usr/local/lib/python3.7/dist-packages (from matplotlib->torch_snippets) (0.11.0)\n",
            "Requirement already satisfied: pyparsing!=2.0.4,!=2.1.2,!=2.1.6,>=2.0.1 in /usr/local/lib/python3.7/dist-packages (from matplotlib->torch_snippets) (3.0.9)\n",
            "Requirement already satisfied: entrypoints in /usr/local/lib/python3.7/dist-packages (from altair->torch_snippets) (0.4)\n",
            "Requirement already satisfied: jinja2 in /usr/local/lib/python3.7/dist-packages (from altair->torch_snippets) (2.11.3)\n",
            "Requirement already satisfied: toolz in /usr/local/lib/python3.7/dist-packages (from altair->torch_snippets) (0.11.2)\n",
            "Requirement already satisfied: jsonschema>=3.0 in /usr/local/lib/python3.7/dist-packages (from altair->torch_snippets) (4.3.3)\n",
            "Requirement already satisfied: pyrsistent!=0.17.0,!=0.17.1,!=0.17.2,>=0.14.0 in /usr/local/lib/python3.7/dist-packages (from jsonschema>=3.0->altair->torch_snippets) (0.18.1)\n",
            "Requirement already satisfied: attrs>=17.4.0 in /usr/local/lib/python3.7/dist-packages (from jsonschema>=3.0->altair->torch_snippets) (21.4.0)\n",
            "Requirement already satisfied: importlib-metadata in /usr/local/lib/python3.7/dist-packages (from jsonschema>=3.0->altair->torch_snippets) (4.11.4)\n",
            "Requirement already satisfied: importlib-resources>=1.4.0 in /usr/local/lib/python3.7/dist-packages (from jsonschema>=3.0->altair->torch_snippets) (5.7.1)\n",
            "Requirement already satisfied: zipp>=3.1.0 in /usr/local/lib/python3.7/dist-packages (from importlib-resources>=1.4.0->jsonschema>=3.0->altair->torch_snippets) (3.8.0)\n",
            "Requirement already satisfied: pytz>=2017.3 in /usr/local/lib/python3.7/dist-packages (from pandas->torch_snippets) (2022.1)\n",
            "Requirement already satisfied: pip in /usr/local/lib/python3.7/dist-packages (from fastcore->torch_snippets) (21.1.3)\n",
            "Requirement already satisfied: packaging in /usr/local/lib/python3.7/dist-packages (from fastcore->torch_snippets) (21.3)\n",
            "Requirement already satisfied: traitlets>=4.2 in /usr/local/lib/python3.7/dist-packages (from ipython->torch_snippets) (5.1.1)\n",
            "Requirement already satisfied: pickleshare in /usr/local/lib/python3.7/dist-packages (from ipython->torch_snippets) (0.7.5)\n",
            "Requirement already satisfied: setuptools>=18.5 in /usr/local/lib/python3.7/dist-packages (from ipython->torch_snippets) (57.4.0)\n",
            "Requirement already satisfied: pexpect in /usr/local/lib/python3.7/dist-packages (from ipython->torch_snippets) (4.8.0)\n",
            "Requirement already satisfied: decorator in /usr/local/lib/python3.7/dist-packages (from ipython->torch_snippets) (4.4.2)\n",
            "Requirement already satisfied: prompt-toolkit<2.0.0,>=1.0.4 in /usr/local/lib/python3.7/dist-packages (from ipython->torch_snippets) (1.0.18)\n",
            "Requirement already satisfied: simplegeneric>0.8 in /usr/local/lib/python3.7/dist-packages (from ipython->torch_snippets) (0.8.1)\n",
            "Requirement already satisfied: pygments in /usr/local/lib/python3.7/dist-packages (from ipython->torch_snippets) (2.6.1)\n",
            "Requirement already satisfied: wcwidth in /usr/local/lib/python3.7/dist-packages (from prompt-toolkit<2.0.0,>=1.0.4->ipython->torch_snippets) (0.2.5)\n",
            "Requirement already satisfied: MarkupSafe>=0.23 in /usr/local/lib/python3.7/dist-packages (from jinja2->altair->torch_snippets) (2.0.1)\n",
            "Requirement already satisfied: ptyprocess>=0.5 in /usr/local/lib/python3.7/dist-packages (from pexpect->ipython->torch_snippets) (0.7.0)\n",
            "Requirement already satisfied: commonmark<0.10.0,>=0.9.0 in /usr/local/lib/python3.7/dist-packages (from rich->torch_snippets) (0.9.1)\n",
            "Looking in indexes: https://pypi.org/simple, https://us-python.pkg.dev/colab-wheels/public/simple/\n",
            "Requirement already satisfied: PyYAML in /usr/local/lib/python3.7/dist-packages (6.0)\n"
          ]
        }
      ]
    },
    {
      "cell_type": "code",
      "execution_count": 3,
      "metadata": {
        "id": "oENNWlYx573V"
      },
      "outputs": [],
      "source": [
        "# Set the correct path for the scripts in your google drive\n",
        "import sys\n",
        "import torchsummary\n",
        "sys.path.append(PATH_TO_SCRIPTS)\n",
        "from main import parse_yaml_file, experiment_factory, run_training_experiment"
      ]
    },
    {
      "cell_type": "code",
      "source": [
        "experiment_configs = parse_yaml_file(PATH_TO_CONFIG_FILE)"
      ],
      "metadata": {
        "id": "Yv5j54U18aiw"
      },
      "execution_count": 4,
      "outputs": []
    },
    {
      "cell_type": "code",
      "source": [
        "experiment_configs"
      ],
      "metadata": {
        "colab": {
          "base_uri": "https://localhost:8080/"
        },
        "id": "M7QitZb_9Edz",
        "outputId": "3ee593c4-1dc9-40af-9ee0-8a785f3d410f"
      },
      "execution_count": 7,
      "outputs": [
        {
          "output_type": "execute_result",
          "data": {
            "text/plain": [
              "{'batch_size': 32,\n",
              " 'epochs': 30,\n",
              " 'loss': {'ContrastiveLoss': {'contrastive_threshold': 1.1, 'margin': 2.0}},\n",
              " 'model': 'PreTrainedVGGSiameseNN',\n",
              " 'optimizer': {'Adam': {'lr': 0.001, 'weight_decay': 0.01}},\n",
              " 'path_to_save_model': '/content/drive/MyDrive/master_degree_ic_unicamp/image_analysis/models/first_model_vgg.pth',\n",
              " 'path_to_save_report': '/content/drive/MyDrive/master_degree_ic_unicamp/image_analysis/reports',\n",
              " 'train_dataset': {'BasicDataset': {'compare_file': '/content/drive/MyDrive/master_degree_ic_unicamp/image_analysis/datasets/compare_splited_v1_train_new.txt',\n",
              "   'images_folder': '/content/drive/MyDrive/master_degree_ic_unicamp/image_analysis/datasets/registred_images_v1_train',\n",
              "   'mode': 1,\n",
              "   'transform': 'BasicTransformations'}},\n",
              " 'transformation': {'BasicTransformations': {'affine_degrees': 5,\n",
              "   'affine_scale': (0.9, 1.1),\n",
              "   'affine_translate': (0.01, 0.02),\n",
              "   'image_size': [120, 120]}},\n",
              " 'validation_dataset': {'BasicDataset': {'compare_file': '/content/drive/MyDrive/master_degree_ic_unicamp/image_analysis/datasets/compare_splited_v1_validation_new.txt',\n",
              "   'images_folder': '/content/drive/MyDrive/master_degree_ic_unicamp/image_analysis/datasets/registred_images_v1_validation',\n",
              "   'mode': 1,\n",
              "   'transform': 'BasicTransformations'}}}"
            ]
          },
          "metadata": {},
          "execution_count": 7
        }
      ]
    },
    {
      "cell_type": "code",
      "source": [
        "# UPDATE THOSE PATHS TO POINT TO YOU GOOGLE DRIVE, OTHERWISE IT WON'T WORK\n",
        "# Updates the dataset paths and compare files (Point to the directory in your google drive)\n",
        "experiment_configs[\"train_dataset\"][\"BasicDataset\"][\"images_folder\"] = TRAIN_DATASET\n",
        "experiment_configs[\"train_dataset\"][\"BasicDataset\"][\"compare_file\"] = TRAIN_COMPARE_FILE\n",
        "experiment_configs[\"validation_dataset\"][\"BasicDataset\"][\"images_folder\"] = VALIDATION_DATASET\n",
        "experiment_configs[\"validation_dataset\"][\"BasicDataset\"][\"compare_file\"] = VALIDATION_COMPARE_FILE\n",
        "# Updates the path to save the trained model and the learning curves plot\n",
        "experiment_configs[\"path_to_save_model\"] = PATH_TO_SAVE_MODEL\n",
        "experiment_configs[\"path_to_save_report\"] = PATH_TO_SAVE_REPORT\n",
        "experiment_configs[\"epochs\"] = 30\n"
      ],
      "metadata": {
        "id": "EoUt_fKu9b_N"
      },
      "execution_count": 6,
      "outputs": []
    },
    {
      "cell_type": "markdown",
      "source": [
        "# Now, after those configurations we can train our model"
      ],
      "metadata": {
        "id": "b2JYhjBG_nJt"
      }
    },
    {
      "cell_type": "code",
      "source": [
        "# Gets model, loaders, optimizer and criterion, based on the experiment configurations\n",
        "model, train_loader, validation_loader, optimizer, criterion = experiment_factory(experiment_configs)"
      ],
      "metadata": {
        "id": "LefXRCgw-9N_"
      },
      "execution_count": 8,
      "outputs": []
    },
    {
      "cell_type": "code",
      "source": [
        "run_training_experiment(\n",
        "    model, train_loader, validation_loader, optimizer, \n",
        "    criterion, experiment_configs\n",
        ")"
      ],
      "metadata": {
        "colab": {
          "base_uri": "https://localhost:8080/"
        },
        "id": "t481EFkf9-D1",
        "outputId": "09697c2a-e45a-4a78-90a1-26500938a2ee"
      },
      "execution_count": null,
      "outputs": [
        {
          "output_type": "stream",
          "name": "stderr",
          "text": [
            "Train Loop:   4%|▍         | 6/145 [00:42<15:59,  6.90s/it, desc=[Epoch 1] Loss: 1.170e+01 - Acc 1.500e+00]"
          ]
        }
      ]
    }
  ]
}